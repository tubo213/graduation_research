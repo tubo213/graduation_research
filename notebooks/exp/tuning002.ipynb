{
 "cells": [
  {
   "cell_type": "code",
   "execution_count": 1,
   "metadata": {},
   "outputs": [
    {
     "name": "stdout",
     "output_type": "stream",
     "text": [
      "/Users/tsukuba-yuuki-uehara/Desktop/projects/graduation_research\n",
      "README.md      \u001b[34minput\u001b[m\u001b[m          \u001b[34mnotebooks\u001b[m\u001b[m      poetry.lock    \u001b[34msrc\u001b[m\u001b[m\n",
      "\u001b[34mbin\u001b[m\u001b[m            \u001b[34mlocal\u001b[m\u001b[m          \u001b[34moutput\u001b[m\u001b[m         pyproject.toml \u001b[34myaml\u001b[m\u001b[m\n"
     ]
    }
   ],
   "source": [
    "%cd /Users/tsukuba-yuuki-uehara/Desktop/projects/graduation_research\n",
    "!ls"
   ]
  },
  {
   "cell_type": "code",
   "execution_count": 2,
   "metadata": {},
   "outputs": [],
   "source": [
    "import yaml\n",
    "from pathlib import Path\n",
    "import copy\n",
    "import os\n",
    "from tqdm import tqdm"
   ]
  },
  {
   "cell_type": "code",
   "execution_count": 3,
   "metadata": {},
   "outputs": [],
   "source": [
    "YAML_DIR = Path('./yaml')\n",
    "START_EXP_NUM = 109"
   ]
  },
  {
   "cell_type": "code",
   "execution_count": 4,
   "metadata": {},
   "outputs": [],
   "source": [
    "with open(YAML_DIR / 'optimize001.yaml', 'rb') as f:\n",
    "    base_yaml = yaml.safe_load(f)"
   ]
  },
  {
   "cell_type": "code",
   "execution_count": 6,
   "metadata": {},
   "outputs": [],
   "source": [
    "alpha_list = [0]\n",
    "cluster_list = [3, 5, 10, 15, 20]\n",
    "gamma_list = [0]"
   ]
  },
  {
   "cell_type": "code",
   "execution_count": 7,
   "metadata": {},
   "outputs": [
    {
     "name": "stderr",
     "output_type": "stream",
     "text": [
      "alpha:   0%|          | 0/1 [00:00<?, ?it/s]\n",
      "\u001b[A"
     ]
    },
    {
     "name": "stdout",
     "output_type": "stream",
     "text": [
      "s-learner, robust, alpha=0, cluster=1, gamma=0\n",
      "\u001b[32m[OptimizeRunnerContainer 2022-12-12 04:56:42]\u001b[0m \u001b[1mINFO Setup [OptimizeRunnerContainer]\u001b[0m\n",
      "\u001b[32m[ConfigService 2022-12-12 04:56:42]\u001b[0m \u001b[1mINFO Setup [ConfigService]\u001b[0m\n",
      "\u001b[32m[ConfigService 2022-12-12 04:56:42]\u001b[0m \u001b[1mINFO {'root_dir': PosixPath('/Users/tsukuba-yuuki-uehara/Desktop/projects/graduation_research')}\u001b[0m\n",
      "\u001b[32m[ConfigService 2022-12-12 04:56:42]\u001b[0m \u001b[1mINFO {'input_dir': PosixPath('/Users/tsukuba-yuuki-uehara/Desktop/projects/graduation_research/input')}\u001b[0m\n",
      "\u001b[32m[ConfigService 2022-12-12 04:56:42]\u001b[0m \u001b[1mINFO {'output_root': PosixPath('/Users/tsukuba-yuuki-uehara/Desktop/projects/graduation_research/output/optimize109')}\u001b[0m\n",
      "\u001b[32m[ConfigService 2022-12-12 04:56:42]\u001b[0m \u001b[1mINFO {'output_dir': PosixPath('/Users/tsukuba-yuuki-uehara/Desktop/projects/graduation_research/output/optimize109/outputs')}\u001b[0m\n",
      "\u001b[32m[ConfigService 2022-12-12 04:56:42]\u001b[0m \u001b[1mINFO {'output_prediction_dir': PosixPath('/Users/tsukuba-yuuki-uehara/Desktop/projects/graduation_research/output/optimize109/predictions')}\u001b[0m\n",
      "\u001b[32m[ConfigService 2022-12-12 04:56:42]\u001b[0m \u001b[1mINFO {'output_model_dir': PosixPath('/Users/tsukuba-yuuki-uehara/Desktop/projects/graduation_research/output/optimize109/models')}\u001b[0m\n",
      "\u001b[32m[ConfigService 2022-12-12 04:56:42]\u001b[0m \u001b[1mINFO {'output_figure_dir': PosixPath('/Users/tsukuba-yuuki-uehara/Desktop/projects/graduation_research/output/optimize109/figures')}\u001b[0m\n",
      "\u001b[32m[ConfigService 2022-12-12 04:56:42]\u001b[0m \u001b[1mINFO {'output_optimize_dir': PosixPath('/Users/tsukuba-yuuki-uehara/Desktop/projects/graduation_research/output/optimize109/optimize')}\u001b[0m\n",
      "\u001b[32m[ConfigService 2022-12-12 04:56:42]\u001b[0m \u001b[1mINFO load yaml file: /Users/tsukuba-yuuki-uehara/Desktop/projects/graduation_research/yaml/optimize109.yaml\u001b[0m\n",
      "=============== /Users/tsukuba-yuuki-uehara/Desktop/projects/graduation_research/yaml/optimize109.yaml =================\n",
      "coupon_config:\n",
      "  variant_no_to_coupon_type:\n",
      "    0: control\n",
      "    1: 5% back\n",
      "    2: 5% off\n",
      "    3: 300yen off\n",
      "    4: 10% off\n",
      "    5: 10% back\n",
      "    6: 15% off\n",
      "name: s-learner, robust, alpha=0, cluster=1, gamma=0\n",
      "postprocess_config:\n",
      "  n_sample: 9999999\n",
      "  n_seed: 1\n",
      "  name: robust\n",
      "  params:\n",
      "    alpha: 0\n",
      "    clustering: gmm\n",
      "    gamma: 0\n",
      "    n_cluster: 1\n",
      "  variant_no_to_cost:\n",
      "    0: 0\n",
      "    1: 5\n",
      "    2: 5\n",
      "    3: 13\n",
      "    4: 10\n",
      "    5: 10\n",
      "    6: 15\n",
      "problem_type: regression\n",
      "seed: 77\n",
      "target_name: gmv_28day\n",
      "train_name: train001\n",
      "treatment_name: treatment\n",
      "\n",
      "==============================================\n",
      "\u001b[32m[ConfigService 2022-12-12 04:56:42]\u001b[0m \u001b[1mINFO {'root_dir': PosixPath('/Users/tsukuba-yuuki-uehara/Desktop/projects/graduation_research')}\u001b[0m\n",
      "\u001b[32m[ConfigService 2022-12-12 04:56:42]\u001b[0m \u001b[1mINFO {'input_dir': PosixPath('/Users/tsukuba-yuuki-uehara/Desktop/projects/graduation_research/input')}\u001b[0m\n",
      "\u001b[32m[ConfigService 2022-12-12 04:56:42]\u001b[0m \u001b[1mINFO {'output_root': PosixPath('/Users/tsukuba-yuuki-uehara/Desktop/projects/graduation_research/output/train001')}\u001b[0m\n",
      "\u001b[32m[ConfigService 2022-12-12 04:56:42]\u001b[0m \u001b[1mINFO {'output_dir': PosixPath('/Users/tsukuba-yuuki-uehara/Desktop/projects/graduation_research/output/train001/outputs')}\u001b[0m\n",
      "\u001b[32m[ConfigService 2022-12-12 04:56:42]\u001b[0m \u001b[1mINFO {'output_prediction_dir': PosixPath('/Users/tsukuba-yuuki-uehara/Desktop/projects/graduation_research/output/train001/predictions')}\u001b[0m\n",
      "\u001b[32m[ConfigService 2022-12-12 04:56:42]\u001b[0m \u001b[1mINFO {'output_model_dir': PosixPath('/Users/tsukuba-yuuki-uehara/Desktop/projects/graduation_research/output/train001/models')}\u001b[0m\n",
      "\u001b[32m[ConfigService 2022-12-12 04:56:42]\u001b[0m \u001b[1mINFO {'output_figure_dir': PosixPath('/Users/tsukuba-yuuki-uehara/Desktop/projects/graduation_research/output/train001/figures')}\u001b[0m\n",
      "\u001b[32m[ConfigService 2022-12-12 04:56:42]\u001b[0m \u001b[1mINFO {'output_optimize_dir': PosixPath('/Users/tsukuba-yuuki-uehara/Desktop/projects/graduation_research/output/train001/optimize')}\u001b[0m\n",
      "\u001b[32m[ConfigService 2022-12-12 04:56:42]\u001b[0m \u001b[1mINFO load yaml file: /Users/tsukuba-yuuki-uehara/Desktop/projects/graduation_research/yaml/train001.yaml\u001b[0m\n",
      "\u001b[32m[DataService 2022-12-12 04:56:42]\u001b[0m \u001b[1mINFO Setup [DataService]\u001b[0m\n",
      "\u001b[32m[DataService 2022-12-12 04:56:42]\u001b[0m \u001b[1mINFO [Read /Users/tsukuba-yuuki-uehara/Desktop/projects/graduation_research/input/retention_campaign_users_and_features_202202.csv] start [0.2GB(39.7%)]\u001b[0m\n",
      "\u001b[32m[DataService 2022-12-12 04:56:44]\u001b[0m \u001b[1mINFO [Read /Users/tsukuba-yuuki-uehara/Desktop/projects/graduation_research/input/retention_campaign_users_and_features_202202.csv] done [2.2GB(44.5%)(+1.985GB)] 2.6970 s\u001b[0m\n",
      "\u001b[32m[DataService 2022-12-12 04:56:44]\u001b[0m \u001b[1mINFO df.shape: (660000, 102)\u001b[0m\n",
      "\u001b[32m[PreprocessService 2022-12-12 04:56:44]\u001b[0m \u001b[1mINFO Setup [PreprocessService]\u001b[0m\n",
      "\u001b[32m[PostprocessService 2022-12-12 04:56:44]\u001b[0m \u001b[1mINFO Setup [PostprocessService]\u001b[0m\n",
      "\u001b[32m[RobustPostprocess 2022-12-12 04:56:45]\u001b[0m \u001b[1mINFO Setup [RobustPostprocess]\u001b[0m\n"
     ]
    },
    {
     "name": "stderr",
     "output_type": "stream",
     "text": [
      "seed:   0%|          | 0/1 [00:00<?, ?it/s]\n",
      "budget_constraint:   0%|          | 0/10 [00:00<?, ?it/s]\u001b[A"
     ]
    },
    {
     "name": "stdout",
     "output_type": "stream",
     "text": [
      "\u001b[32m[RobustPostprocess 2022-12-12 04:56:45]\u001b[0m \u001b[1mINFO Optimal value: -4432061.089068621\u001b[0m\n",
      "\u001b[32m[RobustPostprocess 2022-12-12 04:56:45]\u001b[0m \u001b[1mINFO  Sufficiency ratio: 1.000022\u001b[0m\n"
     ]
    },
    {
     "name": "stderr",
     "output_type": "stream",
     "text": [
      "\n",
      "budget_constraint:  10%|█         | 1/10 [00:00<00:07,  1.17it/s]\u001b[A"
     ]
    },
    {
     "name": "stdout",
     "output_type": "stream",
     "text": [
      "\u001b[32m[RobustPostprocess 2022-12-12 04:56:46]\u001b[0m \u001b[1mINFO Optimal value: -6401685.264699259\u001b[0m\n",
      "\u001b[32m[RobustPostprocess 2022-12-12 04:56:46]\u001b[0m \u001b[1mINFO  Sufficiency ratio: 0.999996\u001b[0m\n"
     ]
    },
    {
     "name": "stderr",
     "output_type": "stream",
     "text": [
      "\n",
      "budget_constraint:  20%|██        | 2/10 [00:01<00:05,  1.45it/s]\u001b[A"
     ]
    },
    {
     "name": "stdout",
     "output_type": "stream",
     "text": [
      "\u001b[32m[RobustPostprocess 2022-12-12 04:56:47]\u001b[0m \u001b[1mINFO Optimal value: -8371495.5331423255\u001b[0m\n",
      "\u001b[32m[RobustPostprocess 2022-12-12 04:56:47]\u001b[0m \u001b[1mINFO  Sufficiency ratio: 1.000001\u001b[0m\n"
     ]
    },
    {
     "name": "stderr",
     "output_type": "stream",
     "text": [
      "\n",
      "budget_constraint:  30%|███       | 3/10 [00:02<00:04,  1.49it/s]\u001b[A"
     ]
    },
    {
     "name": "stdout",
     "output_type": "stream",
     "text": [
      "\u001b[32m[RobustPostprocess 2022-12-12 04:56:47]\u001b[0m \u001b[1mINFO Optimal value: -10341219.935073027\u001b[0m\n",
      "\u001b[32m[RobustPostprocess 2022-12-12 04:56:47]\u001b[0m \u001b[1mINFO  Sufficiency ratio: 0.999999\u001b[0m\n"
     ]
    },
    {
     "name": "stderr",
     "output_type": "stream",
     "text": [
      "\n",
      "budget_constraint:  40%|████      | 4/10 [00:02<00:03,  1.53it/s]\u001b[A"
     ]
    },
    {
     "name": "stdout",
     "output_type": "stream",
     "text": [
      "\u001b[32m[RobustPostprocess 2022-12-12 04:56:48]\u001b[0m \u001b[1mINFO Optimal value: -12311014.62450803\u001b[0m\n",
      "\u001b[32m[RobustPostprocess 2022-12-12 04:56:48]\u001b[0m \u001b[1mINFO  Sufficiency ratio: 1.000000\u001b[0m\n"
     ]
    },
    {
     "name": "stderr",
     "output_type": "stream",
     "text": [
      "\n",
      "budget_constraint:  50%|█████     | 5/10 [00:03<00:03,  1.59it/s]\u001b[A"
     ]
    },
    {
     "name": "stdout",
     "output_type": "stream",
     "text": [
      "\u001b[32m[RobustPostprocess 2022-12-12 04:56:49]\u001b[0m \u001b[1mINFO Optimal value: -14280776.63937819\u001b[0m\n",
      "\u001b[32m[RobustPostprocess 2022-12-12 04:56:49]\u001b[0m \u001b[1mINFO  Sufficiency ratio: 1.000000\u001b[0m\n"
     ]
    },
    {
     "name": "stderr",
     "output_type": "stream",
     "text": [
      "\n",
      "budget_constraint:  60%|██████    | 6/10 [00:03<00:02,  1.59it/s]\u001b[A"
     ]
    },
    {
     "name": "stdout",
     "output_type": "stream",
     "text": [
      "\u001b[32m[RobustPostprocess 2022-12-12 04:56:49]\u001b[0m \u001b[1mINFO Optimal value: -14871527.871425603\u001b[0m\n",
      "\u001b[32m[RobustPostprocess 2022-12-12 04:56:49]\u001b[0m \u001b[1mINFO  Sufficiency ratio: 1.000001\u001b[0m\n"
     ]
    },
    {
     "name": "stderr",
     "output_type": "stream",
     "text": [
      "\n",
      "budget_constraint:  70%|███████   | 7/10 [00:04<00:01,  1.63it/s]\u001b[A"
     ]
    },
    {
     "name": "stdout",
     "output_type": "stream",
     "text": [
      "\u001b[32m[RobustPostprocess 2022-12-12 04:56:50]\u001b[0m \u001b[1mINFO Optimal value: -15002538.52097909\u001b[0m\n",
      "\u001b[32m[RobustPostprocess 2022-12-12 04:56:50]\u001b[0m \u001b[1mINFO  Sufficiency ratio: 1.000003\u001b[0m\n"
     ]
    },
    {
     "name": "stderr",
     "output_type": "stream",
     "text": [
      "\n",
      "budget_constraint:  80%|████████  | 8/10 [00:05<00:01,  1.64it/s]\u001b[A"
     ]
    },
    {
     "name": "stdout",
     "output_type": "stream",
     "text": [
      "\u001b[32m[RobustPostprocess 2022-12-12 04:56:50]\u001b[0m \u001b[1mINFO Optimal value: -15133810.682418693\u001b[0m\n",
      "\u001b[32m[RobustPostprocess 2022-12-12 04:56:50]\u001b[0m \u001b[1mINFO  Sufficiency ratio: 1.000000\u001b[0m\n"
     ]
    },
    {
     "name": "stderr",
     "output_type": "stream",
     "text": [
      "\n",
      "budget_constraint:  90%|█████████ | 9/10 [00:05<00:00,  1.63it/s]\u001b[A"
     ]
    },
    {
     "name": "stdout",
     "output_type": "stream",
     "text": [
      "\u001b[32m[RobustPostprocess 2022-12-12 04:56:51]\u001b[0m \u001b[1mINFO Optimal value: -15265009.853559567\u001b[0m\n",
      "\u001b[32m[RobustPostprocess 2022-12-12 04:56:51]\u001b[0m \u001b[1mINFO  Sufficiency ratio: 1.000007\u001b[0m\n"
     ]
    },
    {
     "name": "stderr",
     "output_type": "stream",
     "text": [
      "\n",
      "budget_constraint: 100%|██████████| 10/10 [00:06<00:00,  1.56it/s]\u001b[A\n",
      "seed: 100%|██████████| 1/1 [00:06<00:00,  6.48s/it]               \u001b[A\n",
      "\n",
      "\u001b[A\n",
      "\u001b[A\n",
      "\u001b[A"
     ]
    },
    {
     "name": "stdout",
     "output_type": "stream",
     "text": [
      "s-learner, robust, alpha=0, cluster=5, gamma=0\n",
      "\u001b[32m[OptimizeRunnerContainer 2022-12-12 04:56:52]\u001b[0m \u001b[1mINFO Setup [OptimizeRunnerContainer]\u001b[0m\n",
      "\u001b[32m[ConfigService 2022-12-12 04:56:52]\u001b[0m \u001b[1mINFO Setup [ConfigService]\u001b[0m\n",
      "\u001b[32m[ConfigService 2022-12-12 04:56:52]\u001b[0m \u001b[1mINFO {'root_dir': PosixPath('/Users/tsukuba-yuuki-uehara/Desktop/projects/graduation_research')}\u001b[0m\n",
      "\u001b[32m[ConfigService 2022-12-12 04:56:52]\u001b[0m \u001b[1mINFO {'input_dir': PosixPath('/Users/tsukuba-yuuki-uehara/Desktop/projects/graduation_research/input')}\u001b[0m\n",
      "\u001b[32m[ConfigService 2022-12-12 04:56:52]\u001b[0m \u001b[1mINFO {'output_root': PosixPath('/Users/tsukuba-yuuki-uehara/Desktop/projects/graduation_research/output/optimize110')}\u001b[0m\n",
      "\u001b[32m[ConfigService 2022-12-12 04:56:52]\u001b[0m \u001b[1mINFO {'output_dir': PosixPath('/Users/tsukuba-yuuki-uehara/Desktop/projects/graduation_research/output/optimize110/outputs')}\u001b[0m\n",
      "\u001b[32m[ConfigService 2022-12-12 04:56:52]\u001b[0m \u001b[1mINFO {'output_prediction_dir': PosixPath('/Users/tsukuba-yuuki-uehara/Desktop/projects/graduation_research/output/optimize110/predictions')}\u001b[0m\n",
      "\u001b[32m[ConfigService 2022-12-12 04:56:52]\u001b[0m \u001b[1mINFO {'output_model_dir': PosixPath('/Users/tsukuba-yuuki-uehara/Desktop/projects/graduation_research/output/optimize110/models')}\u001b[0m\n",
      "\u001b[32m[ConfigService 2022-12-12 04:56:52]\u001b[0m \u001b[1mINFO {'output_figure_dir': PosixPath('/Users/tsukuba-yuuki-uehara/Desktop/projects/graduation_research/output/optimize110/figures')}\u001b[0m\n",
      "\u001b[32m[ConfigService 2022-12-12 04:56:52]\u001b[0m \u001b[1mINFO {'output_optimize_dir': PosixPath('/Users/tsukuba-yuuki-uehara/Desktop/projects/graduation_research/output/optimize110/optimize')}\u001b[0m\n",
      "\u001b[32m[ConfigService 2022-12-12 04:56:52]\u001b[0m \u001b[1mINFO load yaml file: /Users/tsukuba-yuuki-uehara/Desktop/projects/graduation_research/yaml/optimize110.yaml\u001b[0m\n",
      "=============== /Users/tsukuba-yuuki-uehara/Desktop/projects/graduation_research/yaml/optimize110.yaml =================\n",
      "coupon_config:\n",
      "  variant_no_to_coupon_type:\n",
      "    0: control\n",
      "    1: 5% back\n",
      "    2: 5% off\n",
      "    3: 300yen off\n",
      "    4: 10% off\n",
      "    5: 10% back\n",
      "    6: 15% off\n",
      "name: s-learner, robust, alpha=0, cluster=5, gamma=0\n",
      "postprocess_config:\n",
      "  n_sample: 9999999\n",
      "  n_seed: 1\n",
      "  name: robust\n",
      "  params:\n",
      "    alpha: 0\n",
      "    clustering: gmm\n",
      "    gamma: 0\n",
      "    n_cluster: 5\n",
      "  variant_no_to_cost:\n",
      "    0: 0\n",
      "    1: 5\n",
      "    2: 5\n",
      "    3: 13\n",
      "    4: 10\n",
      "    5: 10\n",
      "    6: 15\n",
      "problem_type: regression\n",
      "seed: 77\n",
      "target_name: gmv_28day\n",
      "train_name: train001\n",
      "treatment_name: treatment\n",
      "\n",
      "==============================================\n",
      "\u001b[32m[ConfigService 2022-12-12 04:56:52]\u001b[0m \u001b[1mINFO {'root_dir': PosixPath('/Users/tsukuba-yuuki-uehara/Desktop/projects/graduation_research')}\u001b[0m\n",
      "\u001b[32m[ConfigService 2022-12-12 04:56:52]\u001b[0m \u001b[1mINFO {'input_dir': PosixPath('/Users/tsukuba-yuuki-uehara/Desktop/projects/graduation_research/input')}\u001b[0m\n",
      "\u001b[32m[ConfigService 2022-12-12 04:56:52]\u001b[0m \u001b[1mINFO {'output_root': PosixPath('/Users/tsukuba-yuuki-uehara/Desktop/projects/graduation_research/output/train001')}\u001b[0m\n",
      "\u001b[32m[ConfigService 2022-12-12 04:56:52]\u001b[0m \u001b[1mINFO {'output_dir': PosixPath('/Users/tsukuba-yuuki-uehara/Desktop/projects/graduation_research/output/train001/outputs')}\u001b[0m\n",
      "\u001b[32m[ConfigService 2022-12-12 04:56:52]\u001b[0m \u001b[1mINFO {'output_prediction_dir': PosixPath('/Users/tsukuba-yuuki-uehara/Desktop/projects/graduation_research/output/train001/predictions')}\u001b[0m\n",
      "\u001b[32m[ConfigService 2022-12-12 04:56:52]\u001b[0m \u001b[1mINFO {'output_model_dir': PosixPath('/Users/tsukuba-yuuki-uehara/Desktop/projects/graduation_research/output/train001/models')}\u001b[0m\n",
      "\u001b[32m[ConfigService 2022-12-12 04:56:52]\u001b[0m \u001b[1mINFO {'output_figure_dir': PosixPath('/Users/tsukuba-yuuki-uehara/Desktop/projects/graduation_research/output/train001/figures')}\u001b[0m\n",
      "\u001b[32m[ConfigService 2022-12-12 04:56:52]\u001b[0m \u001b[1mINFO {'output_optimize_dir': PosixPath('/Users/tsukuba-yuuki-uehara/Desktop/projects/graduation_research/output/train001/optimize')}\u001b[0m\n",
      "\u001b[32m[ConfigService 2022-12-12 04:56:52]\u001b[0m \u001b[1mINFO load yaml file: /Users/tsukuba-yuuki-uehara/Desktop/projects/graduation_research/yaml/train001.yaml\u001b[0m\n",
      "\u001b[32m[DataService 2022-12-12 04:56:52]\u001b[0m \u001b[1mINFO Setup [DataService]\u001b[0m\n",
      "\u001b[32m[DataService 2022-12-12 04:56:52]\u001b[0m \u001b[1mINFO [Read /Users/tsukuba-yuuki-uehara/Desktop/projects/graduation_research/input/retention_campaign_users_and_features_202202.csv] start [0.2GB(39.7%)]\u001b[0m\n",
      "\u001b[32m[DataService 2022-12-12 04:56:55]\u001b[0m \u001b[1mINFO [Read /Users/tsukuba-yuuki-uehara/Desktop/projects/graduation_research/input/retention_campaign_users_and_features_202202.csv] done [2.3GB(44.6%)(+2.039GB)] 2.7096 s\u001b[0m\n",
      "\u001b[32m[DataService 2022-12-12 04:56:55]\u001b[0m \u001b[1mINFO df.shape: (660000, 102)\u001b[0m\n",
      "\u001b[32m[PreprocessService 2022-12-12 04:56:55]\u001b[0m \u001b[1mINFO Setup [PreprocessService]\u001b[0m\n",
      "\u001b[32m[PostprocessService 2022-12-12 04:56:55]\u001b[0m \u001b[1mINFO Setup [PostprocessService]\u001b[0m\n",
      "\u001b[32m[RobustPostprocess 2022-12-12 04:56:55]\u001b[0m \u001b[1mINFO Setup [RobustPostprocess]\u001b[0m\n"
     ]
    },
    {
     "name": "stderr",
     "output_type": "stream",
     "text": [
      "seed:   0%|          | 0/1 [00:00<?, ?it/s]\n",
      "budget_constraint:   0%|          | 0/10 [00:00<?, ?it/s]\u001b[A"
     ]
    },
    {
     "name": "stdout",
     "output_type": "stream",
     "text": [
      "\u001b[32m[RobustPostprocess 2022-12-12 04:57:01]\u001b[0m \u001b[1mINFO Optimal value: -5519926.313525362\u001b[0m\n",
      "\u001b[32m[RobustPostprocess 2022-12-12 04:57:01]\u001b[0m \u001b[1mINFO  Sufficiency ratio: 1.000002\u001b[0m\n"
     ]
    },
    {
     "name": "stderr",
     "output_type": "stream",
     "text": [
      "\n",
      "budget_constraint:  10%|█         | 1/10 [00:05<00:47,  5.30s/it]\u001b[A"
     ]
    },
    {
     "name": "stdout",
     "output_type": "stream",
     "text": [
      "\u001b[32m[RobustPostprocess 2022-12-12 04:57:06]\u001b[0m \u001b[1mINFO Optimal value: -7550116.395970976\u001b[0m\n",
      "\u001b[32m[RobustPostprocess 2022-12-12 04:57:06]\u001b[0m \u001b[1mINFO  Sufficiency ratio: 1.000005\u001b[0m\n"
     ]
    },
    {
     "name": "stderr",
     "output_type": "stream",
     "text": [
      "\n",
      "budget_constraint:  20%|██        | 2/10 [00:10<00:42,  5.33s/it]\u001b[A"
     ]
    },
    {
     "name": "stdout",
     "output_type": "stream",
     "text": [
      "\u001b[32m[RobustPostprocess 2022-12-12 04:57:11]\u001b[0m \u001b[1mINFO Optimal value: -9580748.879038448\u001b[0m\n",
      "\u001b[32m[RobustPostprocess 2022-12-12 04:57:11]\u001b[0m \u001b[1mINFO  Sufficiency ratio: 1.000001\u001b[0m\n"
     ]
    },
    {
     "name": "stderr",
     "output_type": "stream",
     "text": [
      "\n",
      "budget_constraint:  30%|███       | 3/10 [00:15<00:37,  5.31s/it]\u001b[A"
     ]
    },
    {
     "name": "stdout",
     "output_type": "stream",
     "text": [
      "\u001b[32m[RobustPostprocess 2022-12-12 04:57:17]\u001b[0m \u001b[1mINFO Optimal value: -11611027.157808166\u001b[0m\n",
      "\u001b[32m[RobustPostprocess 2022-12-12 04:57:17]\u001b[0m \u001b[1mINFO  Sufficiency ratio: 1.000001\u001b[0m\n"
     ]
    },
    {
     "name": "stderr",
     "output_type": "stream",
     "text": [
      "\n",
      "budget_constraint:  40%|████      | 4/10 [00:21<00:31,  5.24s/it]\u001b[A"
     ]
    },
    {
     "name": "stdout",
     "output_type": "stream",
     "text": [
      "\u001b[32m[RobustPostprocess 2022-12-12 04:57:22]\u001b[0m \u001b[1mINFO Optimal value: -13641540.109044118\u001b[0m\n",
      "\u001b[32m[RobustPostprocess 2022-12-12 04:57:22]\u001b[0m \u001b[1mINFO  Sufficiency ratio: 1.000000\u001b[0m\n"
     ]
    },
    {
     "name": "stderr",
     "output_type": "stream",
     "text": [
      "\n",
      "budget_constraint:  50%|█████     | 5/10 [00:26<00:26,  5.28s/it]\u001b[A"
     ]
    },
    {
     "name": "stdout",
     "output_type": "stream",
     "text": [
      "\u001b[32m[RobustPostprocess 2022-12-12 04:57:27]\u001b[0m \u001b[1mINFO Optimal value: -15672011.262738148\u001b[0m\n",
      "\u001b[32m[RobustPostprocess 2022-12-12 04:57:27]\u001b[0m \u001b[1mINFO  Sufficiency ratio: 1.000001\u001b[0m\n"
     ]
    },
    {
     "name": "stderr",
     "output_type": "stream",
     "text": [
      "\n",
      "budget_constraint:  60%|██████    | 6/10 [00:31<00:21,  5.33s/it]\u001b[A"
     ]
    },
    {
     "name": "stdout",
     "output_type": "stream",
     "text": [
      "\u001b[32m[RobustPostprocess 2022-12-12 04:57:33]\u001b[0m \u001b[1mINFO Optimal value: -15833043.212109067\u001b[0m\n",
      "\u001b[32m[RobustPostprocess 2022-12-12 04:57:33]\u001b[0m \u001b[1mINFO  Sufficiency ratio: 0.991986\u001b[0m\n"
     ]
    },
    {
     "name": "stderr",
     "output_type": "stream",
     "text": [
      "\n",
      "budget_constraint:  70%|███████   | 7/10 [00:37<00:16,  5.34s/it]\u001b[A"
     ]
    },
    {
     "name": "stdout",
     "output_type": "stream",
     "text": [
      "\u001b[32m[RobustPostprocess 2022-12-12 04:57:38]\u001b[0m \u001b[1mINFO Optimal value: -15833106.371801376\u001b[0m\n",
      "\u001b[32m[RobustPostprocess 2022-12-12 04:57:38]\u001b[0m \u001b[1mINFO  Sufficiency ratio: 0.905529\u001b[0m\n"
     ]
    },
    {
     "name": "stderr",
     "output_type": "stream",
     "text": [
      "\n",
      "budget_constraint:  80%|████████  | 8/10 [00:42<00:10,  5.33s/it]\u001b[A"
     ]
    },
    {
     "name": "stdout",
     "output_type": "stream",
     "text": [
      "\u001b[32m[RobustPostprocess 2022-12-12 04:57:43]\u001b[0m \u001b[1mINFO Optimal value: -15833481.85221044\u001b[0m\n",
      "\u001b[32m[RobustPostprocess 2022-12-12 04:57:43]\u001b[0m \u001b[1mINFO  Sufficiency ratio: 0.818369\u001b[0m\n"
     ]
    },
    {
     "name": "stderr",
     "output_type": "stream",
     "text": [
      "\n",
      "budget_constraint:  90%|█████████ | 9/10 [00:47<00:05,  5.32s/it]\u001b[A"
     ]
    },
    {
     "name": "stdout",
     "output_type": "stream",
     "text": [
      "\u001b[32m[RobustPostprocess 2022-12-12 04:57:49]\u001b[0m \u001b[1mINFO Optimal value: -15833186.412506996\u001b[0m\n",
      "\u001b[32m[RobustPostprocess 2022-12-12 04:57:49]\u001b[0m \u001b[1mINFO  Sufficiency ratio: 0.747186\u001b[0m\n"
     ]
    },
    {
     "name": "stderr",
     "output_type": "stream",
     "text": [
      "\n",
      "budget_constraint: 100%|██████████| 10/10 [00:53<00:00,  5.31s/it]\u001b[A\n",
      "seed: 100%|██████████| 1/1 [00:53<00:00, 53.18s/it]               \u001b[A\n",
      "\n",
      "\u001b[A\n",
      "\u001b[A\n",
      "\u001b[A"
     ]
    },
    {
     "name": "stdout",
     "output_type": "stream",
     "text": [
      "s-learner, robust, alpha=0, cluster=10, gamma=0\n",
      "\u001b[32m[OptimizeRunnerContainer 2022-12-12 04:57:50]\u001b[0m \u001b[1mINFO Setup [OptimizeRunnerContainer]\u001b[0m\n",
      "\u001b[32m[ConfigService 2022-12-12 04:57:50]\u001b[0m \u001b[1mINFO Setup [ConfigService]\u001b[0m\n",
      "\u001b[32m[ConfigService 2022-12-12 04:57:50]\u001b[0m \u001b[1mINFO {'root_dir': PosixPath('/Users/tsukuba-yuuki-uehara/Desktop/projects/graduation_research')}\u001b[0m\n",
      "\u001b[32m[ConfigService 2022-12-12 04:57:50]\u001b[0m \u001b[1mINFO {'input_dir': PosixPath('/Users/tsukuba-yuuki-uehara/Desktop/projects/graduation_research/input')}\u001b[0m\n",
      "\u001b[32m[ConfigService 2022-12-12 04:57:50]\u001b[0m \u001b[1mINFO {'output_root': PosixPath('/Users/tsukuba-yuuki-uehara/Desktop/projects/graduation_research/output/optimize111')}\u001b[0m\n",
      "\u001b[32m[ConfigService 2022-12-12 04:57:50]\u001b[0m \u001b[1mINFO {'output_dir': PosixPath('/Users/tsukuba-yuuki-uehara/Desktop/projects/graduation_research/output/optimize111/outputs')}\u001b[0m\n",
      "\u001b[32m[ConfigService 2022-12-12 04:57:50]\u001b[0m \u001b[1mINFO {'output_prediction_dir': PosixPath('/Users/tsukuba-yuuki-uehara/Desktop/projects/graduation_research/output/optimize111/predictions')}\u001b[0m\n",
      "\u001b[32m[ConfigService 2022-12-12 04:57:50]\u001b[0m \u001b[1mINFO {'output_model_dir': PosixPath('/Users/tsukuba-yuuki-uehara/Desktop/projects/graduation_research/output/optimize111/models')}\u001b[0m\n",
      "\u001b[32m[ConfigService 2022-12-12 04:57:50]\u001b[0m \u001b[1mINFO {'output_figure_dir': PosixPath('/Users/tsukuba-yuuki-uehara/Desktop/projects/graduation_research/output/optimize111/figures')}\u001b[0m\n",
      "\u001b[32m[ConfigService 2022-12-12 04:57:50]\u001b[0m \u001b[1mINFO {'output_optimize_dir': PosixPath('/Users/tsukuba-yuuki-uehara/Desktop/projects/graduation_research/output/optimize111/optimize')}\u001b[0m\n",
      "\u001b[32m[ConfigService 2022-12-12 04:57:50]\u001b[0m \u001b[1mINFO load yaml file: /Users/tsukuba-yuuki-uehara/Desktop/projects/graduation_research/yaml/optimize111.yaml\u001b[0m\n",
      "=============== /Users/tsukuba-yuuki-uehara/Desktop/projects/graduation_research/yaml/optimize111.yaml =================\n",
      "coupon_config:\n",
      "  variant_no_to_coupon_type:\n",
      "    0: control\n",
      "    1: 5% back\n",
      "    2: 5% off\n",
      "    3: 300yen off\n",
      "    4: 10% off\n",
      "    5: 10% back\n",
      "    6: 15% off\n",
      "name: s-learner, robust, alpha=0, cluster=10, gamma=0\n",
      "postprocess_config:\n",
      "  n_sample: 9999999\n",
      "  n_seed: 1\n",
      "  name: robust\n",
      "  params:\n",
      "    alpha: 0\n",
      "    clustering: gmm\n",
      "    gamma: 0\n",
      "    n_cluster: 10\n",
      "  variant_no_to_cost:\n",
      "    0: 0\n",
      "    1: 5\n",
      "    2: 5\n",
      "    3: 13\n",
      "    4: 10\n",
      "    5: 10\n",
      "    6: 15\n",
      "problem_type: regression\n",
      "seed: 77\n",
      "target_name: gmv_28day\n",
      "train_name: train001\n",
      "treatment_name: treatment\n",
      "\n",
      "==============================================\n",
      "\u001b[32m[ConfigService 2022-12-12 04:57:50]\u001b[0m \u001b[1mINFO {'root_dir': PosixPath('/Users/tsukuba-yuuki-uehara/Desktop/projects/graduation_research')}\u001b[0m\n",
      "\u001b[32m[ConfigService 2022-12-12 04:57:50]\u001b[0m \u001b[1mINFO {'input_dir': PosixPath('/Users/tsukuba-yuuki-uehara/Desktop/projects/graduation_research/input')}\u001b[0m\n",
      "\u001b[32m[ConfigService 2022-12-12 04:57:50]\u001b[0m \u001b[1mINFO {'output_root': PosixPath('/Users/tsukuba-yuuki-uehara/Desktop/projects/graduation_research/output/train001')}\u001b[0m\n",
      "\u001b[32m[ConfigService 2022-12-12 04:57:50]\u001b[0m \u001b[1mINFO {'output_dir': PosixPath('/Users/tsukuba-yuuki-uehara/Desktop/projects/graduation_research/output/train001/outputs')}\u001b[0m\n",
      "\u001b[32m[ConfigService 2022-12-12 04:57:50]\u001b[0m \u001b[1mINFO {'output_prediction_dir': PosixPath('/Users/tsukuba-yuuki-uehara/Desktop/projects/graduation_research/output/train001/predictions')}\u001b[0m\n",
      "\u001b[32m[ConfigService 2022-12-12 04:57:50]\u001b[0m \u001b[1mINFO {'output_model_dir': PosixPath('/Users/tsukuba-yuuki-uehara/Desktop/projects/graduation_research/output/train001/models')}\u001b[0m\n",
      "\u001b[32m[ConfigService 2022-12-12 04:57:50]\u001b[0m \u001b[1mINFO {'output_figure_dir': PosixPath('/Users/tsukuba-yuuki-uehara/Desktop/projects/graduation_research/output/train001/figures')}\u001b[0m\n",
      "\u001b[32m[ConfigService 2022-12-12 04:57:50]\u001b[0m \u001b[1mINFO {'output_optimize_dir': PosixPath('/Users/tsukuba-yuuki-uehara/Desktop/projects/graduation_research/output/train001/optimize')}\u001b[0m\n",
      "\u001b[32m[ConfigService 2022-12-12 04:57:50]\u001b[0m \u001b[1mINFO load yaml file: /Users/tsukuba-yuuki-uehara/Desktop/projects/graduation_research/yaml/train001.yaml\u001b[0m\n",
      "\u001b[32m[DataService 2022-12-12 04:57:50]\u001b[0m \u001b[1mINFO Setup [DataService]\u001b[0m\n",
      "\u001b[32m[DataService 2022-12-12 04:57:50]\u001b[0m \u001b[1mINFO [Read /Users/tsukuba-yuuki-uehara/Desktop/projects/graduation_research/input/retention_campaign_users_and_features_202202.csv] start [0.2GB(39.7%)]\u001b[0m\n",
      "\u001b[32m[DataService 2022-12-12 04:57:53]\u001b[0m \u001b[1mINFO [Read /Users/tsukuba-yuuki-uehara/Desktop/projects/graduation_research/input/retention_campaign_users_and_features_202202.csv] done [2.3GB(44.9%)(+2.072GB)] 2.7138 s\u001b[0m\n",
      "\u001b[32m[DataService 2022-12-12 04:57:53]\u001b[0m \u001b[1mINFO df.shape: (660000, 102)\u001b[0m\n",
      "\u001b[32m[PreprocessService 2022-12-12 04:57:53]\u001b[0m \u001b[1mINFO Setup [PreprocessService]\u001b[0m\n",
      "\u001b[32m[PostprocessService 2022-12-12 04:57:53]\u001b[0m \u001b[1mINFO Setup [PostprocessService]\u001b[0m\n",
      "\u001b[32m[RobustPostprocess 2022-12-12 04:57:53]\u001b[0m \u001b[1mINFO Setup [RobustPostprocess]\u001b[0m\n"
     ]
    },
    {
     "name": "stderr",
     "output_type": "stream",
     "text": [
      "seed:   0%|          | 0/1 [00:00<?, ?it/s]\n",
      "budget_constraint:   0%|          | 0/10 [00:00<?, ?it/s]\u001b[A"
     ]
    },
    {
     "name": "stdout",
     "output_type": "stream",
     "text": [
      "\u001b[32m[RobustPostprocess 2022-12-12 04:58:02]\u001b[0m \u001b[1mINFO Optimal value: -7107387.804384139\u001b[0m\n",
      "\u001b[32m[RobustPostprocess 2022-12-12 04:58:02]\u001b[0m \u001b[1mINFO  Sufficiency ratio: 1.000002\u001b[0m\n"
     ]
    },
    {
     "name": "stderr",
     "output_type": "stream",
     "text": [
      "\n",
      "budget_constraint:  10%|█         | 1/10 [00:08<01:18,  8.77s/it]\u001b[A"
     ]
    },
    {
     "name": "stdout",
     "output_type": "stream",
     "text": [
      "\u001b[32m[RobustPostprocess 2022-12-12 04:58:10]\u001b[0m \u001b[1mINFO Optimal value: -9521392.141851375\u001b[0m\n",
      "\u001b[32m[RobustPostprocess 2022-12-12 04:58:10]\u001b[0m \u001b[1mINFO  Sufficiency ratio: 0.999999\u001b[0m\n"
     ]
    },
    {
     "name": "stderr",
     "output_type": "stream",
     "text": [
      "\n",
      "budget_constraint:  20%|██        | 2/10 [00:17<01:08,  8.54s/it]\u001b[A"
     ]
    },
    {
     "name": "stdout",
     "output_type": "stream",
     "text": [
      "\u001b[32m[RobustPostprocess 2022-12-12 04:58:19]\u001b[0m \u001b[1mINFO Optimal value: -11865042.319376234\u001b[0m\n",
      "\u001b[32m[RobustPostprocess 2022-12-12 04:58:19]\u001b[0m \u001b[1mINFO  Sufficiency ratio: 1.000005\u001b[0m\n"
     ]
    },
    {
     "name": "stderr",
     "output_type": "stream",
     "text": [
      "\n",
      "budget_constraint:  30%|███       | 3/10 [00:25<00:59,  8.50s/it]\u001b[A"
     ]
    },
    {
     "name": "stdout",
     "output_type": "stream",
     "text": [
      "\u001b[32m[RobustPostprocess 2022-12-12 04:58:27]\u001b[0m \u001b[1mINFO Optimal value: -13511028.459569985\u001b[0m\n",
      "\u001b[32m[RobustPostprocess 2022-12-12 04:58:27]\u001b[0m \u001b[1mINFO  Sufficiency ratio: 1.000012\u001b[0m\n"
     ]
    },
    {
     "name": "stderr",
     "output_type": "stream",
     "text": [
      "\n",
      "budget_constraint:  40%|████      | 4/10 [00:34<00:51,  8.55s/it]\u001b[A"
     ]
    },
    {
     "name": "stdout",
     "output_type": "stream",
     "text": [
      "\u001b[32m[RobustPostprocess 2022-12-12 04:58:36]\u001b[0m \u001b[1mINFO Optimal value: -14851393.009503523\u001b[0m\n",
      "\u001b[32m[RobustPostprocess 2022-12-12 04:58:36]\u001b[0m \u001b[1mINFO  Sufficiency ratio: 1.000011\u001b[0m\n"
     ]
    },
    {
     "name": "stderr",
     "output_type": "stream",
     "text": [
      "\n",
      "budget_constraint:  50%|█████     | 5/10 [00:42<00:43,  8.61s/it]\u001b[A"
     ]
    },
    {
     "name": "stdout",
     "output_type": "stream",
     "text": [
      "\u001b[32m[RobustPostprocess 2022-12-12 04:58:45]\u001b[0m \u001b[1mINFO Optimal value: -16192840.831393259\u001b[0m\n",
      "\u001b[32m[RobustPostprocess 2022-12-12 04:58:45]\u001b[0m \u001b[1mINFO  Sufficiency ratio: 1.000005\u001b[0m\n"
     ]
    },
    {
     "name": "stderr",
     "output_type": "stream",
     "text": [
      "\n",
      "budget_constraint:  60%|██████    | 6/10 [00:51<00:34,  8.67s/it]\u001b[A"
     ]
    },
    {
     "name": "stdout",
     "output_type": "stream",
     "text": [
      "\u001b[32m[RobustPostprocess 2022-12-12 04:58:54]\u001b[0m \u001b[1mINFO Optimal value: -16391097.635478966\u001b[0m\n",
      "\u001b[32m[RobustPostprocess 2022-12-12 04:58:54]\u001b[0m \u001b[1mINFO  Sufficiency ratio: 0.999859\u001b[0m\n"
     ]
    },
    {
     "name": "stderr",
     "output_type": "stream",
     "text": [
      "\n",
      "budget_constraint:  70%|███████   | 7/10 [01:00<00:26,  8.76s/it]\u001b[A"
     ]
    },
    {
     "name": "stdout",
     "output_type": "stream",
     "text": [
      "\u001b[32m[RobustPostprocess 2022-12-12 04:59:03]\u001b[0m \u001b[1mINFO Optimal value: -16390714.474183284\u001b[0m\n",
      "\u001b[32m[RobustPostprocess 2022-12-12 04:59:03]\u001b[0m \u001b[1mINFO  Sufficiency ratio: 0.927517\u001b[0m\n"
     ]
    },
    {
     "name": "stderr",
     "output_type": "stream",
     "text": [
      "\n",
      "budget_constraint:  80%|████████  | 8/10 [01:09<00:17,  8.85s/it]\u001b[A"
     ]
    },
    {
     "name": "stdout",
     "output_type": "stream",
     "text": [
      "\u001b[32m[RobustPostprocess 2022-12-12 04:59:12]\u001b[0m \u001b[1mINFO Optimal value: -16390592.92606962\u001b[0m\n",
      "\u001b[32m[RobustPostprocess 2022-12-12 04:59:12]\u001b[0m \u001b[1mINFO  Sufficiency ratio: 0.842314\u001b[0m\n"
     ]
    },
    {
     "name": "stderr",
     "output_type": "stream",
     "text": [
      "\n",
      "budget_constraint:  90%|█████████ | 9/10 [01:18<00:08,  8.93s/it]\u001b[A"
     ]
    },
    {
     "name": "stdout",
     "output_type": "stream",
     "text": [
      "\u001b[32m[RobustPostprocess 2022-12-12 04:59:21]\u001b[0m \u001b[1mINFO Optimal value: -16390738.31708442\u001b[0m\n",
      "\u001b[32m[RobustPostprocess 2022-12-12 04:59:21]\u001b[0m \u001b[1mINFO  Sufficiency ratio: 0.769322\u001b[0m\n"
     ]
    },
    {
     "name": "stderr",
     "output_type": "stream",
     "text": [
      "\n",
      "budget_constraint: 100%|██████████| 10/10 [01:28<00:00,  9.11s/it]\u001b[A\n",
      "seed: 100%|██████████| 1/1 [01:28<00:00, 88.40s/it]               \u001b[A\n",
      "\n",
      "\u001b[A\n",
      "\u001b[A\n",
      "\u001b[A"
     ]
    },
    {
     "name": "stdout",
     "output_type": "stream",
     "text": [
      "s-learner, robust, alpha=0, cluster=15, gamma=0\n",
      "\u001b[32m[OptimizeRunnerContainer 2022-12-12 04:59:23]\u001b[0m \u001b[1mINFO Setup [OptimizeRunnerContainer]\u001b[0m\n",
      "\u001b[32m[ConfigService 2022-12-12 04:59:23]\u001b[0m \u001b[1mINFO Setup [ConfigService]\u001b[0m\n",
      "\u001b[32m[ConfigService 2022-12-12 04:59:23]\u001b[0m \u001b[1mINFO {'root_dir': PosixPath('/Users/tsukuba-yuuki-uehara/Desktop/projects/graduation_research')}\u001b[0m\n",
      "\u001b[32m[ConfigService 2022-12-12 04:59:23]\u001b[0m \u001b[1mINFO {'input_dir': PosixPath('/Users/tsukuba-yuuki-uehara/Desktop/projects/graduation_research/input')}\u001b[0m\n",
      "\u001b[32m[ConfigService 2022-12-12 04:59:23]\u001b[0m \u001b[1mINFO {'output_root': PosixPath('/Users/tsukuba-yuuki-uehara/Desktop/projects/graduation_research/output/optimize112')}\u001b[0m\n",
      "\u001b[32m[ConfigService 2022-12-12 04:59:23]\u001b[0m \u001b[1mINFO {'output_dir': PosixPath('/Users/tsukuba-yuuki-uehara/Desktop/projects/graduation_research/output/optimize112/outputs')}\u001b[0m\n",
      "\u001b[32m[ConfigService 2022-12-12 04:59:23]\u001b[0m \u001b[1mINFO {'output_prediction_dir': PosixPath('/Users/tsukuba-yuuki-uehara/Desktop/projects/graduation_research/output/optimize112/predictions')}\u001b[0m\n",
      "\u001b[32m[ConfigService 2022-12-12 04:59:23]\u001b[0m \u001b[1mINFO {'output_model_dir': PosixPath('/Users/tsukuba-yuuki-uehara/Desktop/projects/graduation_research/output/optimize112/models')}\u001b[0m\n",
      "\u001b[32m[ConfigService 2022-12-12 04:59:23]\u001b[0m \u001b[1mINFO {'output_figure_dir': PosixPath('/Users/tsukuba-yuuki-uehara/Desktop/projects/graduation_research/output/optimize112/figures')}\u001b[0m\n",
      "\u001b[32m[ConfigService 2022-12-12 04:59:23]\u001b[0m \u001b[1mINFO {'output_optimize_dir': PosixPath('/Users/tsukuba-yuuki-uehara/Desktop/projects/graduation_research/output/optimize112/optimize')}\u001b[0m\n",
      "\u001b[32m[ConfigService 2022-12-12 04:59:23]\u001b[0m \u001b[1mINFO load yaml file: /Users/tsukuba-yuuki-uehara/Desktop/projects/graduation_research/yaml/optimize112.yaml\u001b[0m\n",
      "=============== /Users/tsukuba-yuuki-uehara/Desktop/projects/graduation_research/yaml/optimize112.yaml =================\n",
      "coupon_config:\n",
      "  variant_no_to_coupon_type:\n",
      "    0: control\n",
      "    1: 5% back\n",
      "    2: 5% off\n",
      "    3: 300yen off\n",
      "    4: 10% off\n",
      "    5: 10% back\n",
      "    6: 15% off\n",
      "name: s-learner, robust, alpha=0, cluster=15, gamma=0\n",
      "postprocess_config:\n",
      "  n_sample: 9999999\n",
      "  n_seed: 1\n",
      "  name: robust\n",
      "  params:\n",
      "    alpha: 0\n",
      "    clustering: gmm\n",
      "    gamma: 0\n",
      "    n_cluster: 15\n",
      "  variant_no_to_cost:\n",
      "    0: 0\n",
      "    1: 5\n",
      "    2: 5\n",
      "    3: 13\n",
      "    4: 10\n",
      "    5: 10\n",
      "    6: 15\n",
      "problem_type: regression\n",
      "seed: 77\n",
      "target_name: gmv_28day\n",
      "train_name: train001\n",
      "treatment_name: treatment\n",
      "\n",
      "==============================================\n",
      "\u001b[32m[ConfigService 2022-12-12 04:59:23]\u001b[0m \u001b[1mINFO {'root_dir': PosixPath('/Users/tsukuba-yuuki-uehara/Desktop/projects/graduation_research')}\u001b[0m\n",
      "\u001b[32m[ConfigService 2022-12-12 04:59:23]\u001b[0m \u001b[1mINFO {'input_dir': PosixPath('/Users/tsukuba-yuuki-uehara/Desktop/projects/graduation_research/input')}\u001b[0m\n",
      "\u001b[32m[ConfigService 2022-12-12 04:59:23]\u001b[0m \u001b[1mINFO {'output_root': PosixPath('/Users/tsukuba-yuuki-uehara/Desktop/projects/graduation_research/output/train001')}\u001b[0m\n",
      "\u001b[32m[ConfigService 2022-12-12 04:59:23]\u001b[0m \u001b[1mINFO {'output_dir': PosixPath('/Users/tsukuba-yuuki-uehara/Desktop/projects/graduation_research/output/train001/outputs')}\u001b[0m\n",
      "\u001b[32m[ConfigService 2022-12-12 04:59:23]\u001b[0m \u001b[1mINFO {'output_prediction_dir': PosixPath('/Users/tsukuba-yuuki-uehara/Desktop/projects/graduation_research/output/train001/predictions')}\u001b[0m\n",
      "\u001b[32m[ConfigService 2022-12-12 04:59:23]\u001b[0m \u001b[1mINFO {'output_model_dir': PosixPath('/Users/tsukuba-yuuki-uehara/Desktop/projects/graduation_research/output/train001/models')}\u001b[0m\n",
      "\u001b[32m[ConfigService 2022-12-12 04:59:23]\u001b[0m \u001b[1mINFO {'output_figure_dir': PosixPath('/Users/tsukuba-yuuki-uehara/Desktop/projects/graduation_research/output/train001/figures')}\u001b[0m\n",
      "\u001b[32m[ConfigService 2022-12-12 04:59:23]\u001b[0m \u001b[1mINFO {'output_optimize_dir': PosixPath('/Users/tsukuba-yuuki-uehara/Desktop/projects/graduation_research/output/train001/optimize')}\u001b[0m\n",
      "\u001b[32m[ConfigService 2022-12-12 04:59:23]\u001b[0m \u001b[1mINFO load yaml file: /Users/tsukuba-yuuki-uehara/Desktop/projects/graduation_research/yaml/train001.yaml\u001b[0m\n",
      "\u001b[32m[DataService 2022-12-12 04:59:23]\u001b[0m \u001b[1mINFO Setup [DataService]\u001b[0m\n",
      "\u001b[32m[DataService 2022-12-12 04:59:23]\u001b[0m \u001b[1mINFO [Read /Users/tsukuba-yuuki-uehara/Desktop/projects/graduation_research/input/retention_campaign_users_and_features_202202.csv] start [0.2GB(39.7%)]\u001b[0m\n",
      "\u001b[32m[DataService 2022-12-12 04:59:25]\u001b[0m \u001b[1mINFO [Read /Users/tsukuba-yuuki-uehara/Desktop/projects/graduation_research/input/retention_campaign_users_and_features_202202.csv] done [2.5GB(45.4%)(+2.223GB)] 2.7143 s\u001b[0m\n",
      "\u001b[32m[DataService 2022-12-12 04:59:25]\u001b[0m \u001b[1mINFO df.shape: (660000, 102)\u001b[0m\n",
      "\u001b[32m[PreprocessService 2022-12-12 04:59:25]\u001b[0m \u001b[1mINFO Setup [PreprocessService]\u001b[0m\n",
      "\u001b[32m[PostprocessService 2022-12-12 04:59:25]\u001b[0m \u001b[1mINFO Setup [PostprocessService]\u001b[0m\n",
      "\u001b[32m[RobustPostprocess 2022-12-12 04:59:26]\u001b[0m \u001b[1mINFO Setup [RobustPostprocess]\u001b[0m\n"
     ]
    },
    {
     "name": "stderr",
     "output_type": "stream",
     "text": [
      "seed:   0%|          | 0/1 [00:00<?, ?it/s]\n",
      "budget_constraint:   0%|          | 0/10 [00:00<?, ?it/s]\u001b[A"
     ]
    },
    {
     "name": "stdout",
     "output_type": "stream",
     "text": [
      "\u001b[32m[RobustPostprocess 2022-12-12 04:59:38]\u001b[0m \u001b[1mINFO Optimal value: -6074969.557770309\u001b[0m\n",
      "\u001b[32m[RobustPostprocess 2022-12-12 04:59:38]\u001b[0m \u001b[1mINFO  Sufficiency ratio: 1.000000\u001b[0m\n"
     ]
    },
    {
     "name": "stderr",
     "output_type": "stream",
     "text": [
      "\n",
      "budget_constraint:  10%|█         | 1/10 [00:12<01:48, 12.05s/it]\u001b[A"
     ]
    },
    {
     "name": "stdout",
     "output_type": "stream",
     "text": [
      "\u001b[32m[RobustPostprocess 2022-12-12 04:59:50]\u001b[0m \u001b[1mINFO Optimal value: -8077054.872722007\u001b[0m\n",
      "\u001b[32m[RobustPostprocess 2022-12-12 04:59:50]\u001b[0m \u001b[1mINFO  Sufficiency ratio: 1.000008\u001b[0m\n"
     ]
    },
    {
     "name": "stderr",
     "output_type": "stream",
     "text": [
      "\n",
      "budget_constraint:  20%|██        | 2/10 [00:24<01:37, 12.23s/it]\u001b[A"
     ]
    },
    {
     "name": "stdout",
     "output_type": "stream",
     "text": [
      "\u001b[32m[RobustPostprocess 2022-12-12 05:00:03]\u001b[0m \u001b[1mINFO Optimal value: -10079629.391024169\u001b[0m\n",
      "\u001b[32m[RobustPostprocess 2022-12-12 05:00:03]\u001b[0m \u001b[1mINFO  Sufficiency ratio: 1.000012\u001b[0m\n"
     ]
    },
    {
     "name": "stderr",
     "output_type": "stream",
     "text": [
      "\n",
      "budget_constraint:  30%|███       | 3/10 [00:36<01:26, 12.37s/it]\u001b[A"
     ]
    },
    {
     "name": "stdout",
     "output_type": "stream",
     "text": [
      "\u001b[32m[RobustPostprocess 2022-12-12 05:00:15]\u001b[0m \u001b[1mINFO Optimal value: -12082379.95869898\u001b[0m\n",
      "\u001b[32m[RobustPostprocess 2022-12-12 05:00:15]\u001b[0m \u001b[1mINFO  Sufficiency ratio: 1.000025\u001b[0m\n"
     ]
    },
    {
     "name": "stderr",
     "output_type": "stream",
     "text": [
      "\n",
      "budget_constraint:  40%|████      | 4/10 [00:49<01:14, 12.41s/it]\u001b[A"
     ]
    },
    {
     "name": "stdout",
     "output_type": "stream",
     "text": [
      "\u001b[32m[RobustPostprocess 2022-12-12 05:00:28]\u001b[0m \u001b[1mINFO Optimal value: -14084752.746794999\u001b[0m\n",
      "\u001b[32m[RobustPostprocess 2022-12-12 05:00:28]\u001b[0m \u001b[1mINFO  Sufficiency ratio: 1.000020\u001b[0m\n"
     ]
    },
    {
     "name": "stderr",
     "output_type": "stream",
     "text": [
      "\n",
      "budget_constraint:  50%|█████     | 5/10 [01:01<01:02, 12.42s/it]\u001b[A"
     ]
    },
    {
     "name": "stdout",
     "output_type": "stream",
     "text": [
      "\u001b[32m[RobustPostprocess 2022-12-12 05:00:40]\u001b[0m \u001b[1mINFO Optimal value: -16087574.685936978\u001b[0m\n",
      "\u001b[32m[RobustPostprocess 2022-12-12 05:00:40]\u001b[0m \u001b[1mINFO  Sufficiency ratio: 1.000018\u001b[0m\n"
     ]
    },
    {
     "name": "stderr",
     "output_type": "stream",
     "text": [
      "\n",
      "budget_constraint:  60%|██████    | 6/10 [01:14<00:50, 12.51s/it]\u001b[A"
     ]
    },
    {
     "name": "stdout",
     "output_type": "stream",
     "text": [
      "\u001b[32m[RobustPostprocess 2022-12-12 05:00:53]\u001b[0m \u001b[1mINFO Optimal value: -16201442.929808572\u001b[0m\n",
      "\u001b[32m[RobustPostprocess 2022-12-12 05:00:53]\u001b[0m \u001b[1mINFO  Sufficiency ratio: 0.999995\u001b[0m\n"
     ]
    },
    {
     "name": "stderr",
     "output_type": "stream",
     "text": [
      "\n",
      "budget_constraint:  70%|███████   | 7/10 [01:27<00:37, 12.52s/it]\u001b[A"
     ]
    },
    {
     "name": "stdout",
     "output_type": "stream",
     "text": [
      "\u001b[32m[RobustPostprocess 2022-12-12 05:01:05]\u001b[0m \u001b[1mINFO Optimal value: -16202168.21910298\u001b[0m\n",
      "\u001b[32m[RobustPostprocess 2022-12-12 05:01:05]\u001b[0m \u001b[1mINFO  Sufficiency ratio: 0.920081\u001b[0m\n"
     ]
    },
    {
     "name": "stderr",
     "output_type": "stream",
     "text": [
      "\n",
      "budget_constraint:  80%|████████  | 8/10 [01:39<00:25, 12.53s/it]\u001b[A"
     ]
    },
    {
     "name": "stdout",
     "output_type": "stream",
     "text": [
      "\u001b[32m[RobustPostprocess 2022-12-12 05:01:18]\u001b[0m \u001b[1mINFO Optimal value: -16200385.733355645\u001b[0m\n",
      "\u001b[32m[RobustPostprocess 2022-12-12 05:01:18]\u001b[0m \u001b[1mINFO  Sufficiency ratio: 0.831582\u001b[0m\n"
     ]
    },
    {
     "name": "stderr",
     "output_type": "stream",
     "text": [
      "\n",
      "budget_constraint:  90%|█████████ | 9/10 [01:52<00:12, 12.65s/it]\u001b[A"
     ]
    },
    {
     "name": "stdout",
     "output_type": "stream",
     "text": [
      "\u001b[32m[RobustPostprocess 2022-12-12 05:01:32]\u001b[0m \u001b[1mINFO Optimal value: -16201205.938313728\u001b[0m\n",
      "\u001b[32m[RobustPostprocess 2022-12-12 05:01:32]\u001b[0m \u001b[1mINFO  Sufficiency ratio: 0.758428\u001b[0m\n"
     ]
    },
    {
     "name": "stderr",
     "output_type": "stream",
     "text": [
      "\n",
      "budget_constraint: 100%|██████████| 10/10 [02:05<00:00, 12.85s/it]\u001b[A\n",
      "seed: 100%|██████████| 1/1 [02:05<00:00, 125.88s/it]              \u001b[A\n",
      "\n",
      "\u001b[A\n",
      "\u001b[A\n",
      "\u001b[A"
     ]
    },
    {
     "name": "stdout",
     "output_type": "stream",
     "text": [
      "s-learner, robust, alpha=0, cluster=20, gamma=0\n",
      "\u001b[32m[OptimizeRunnerContainer 2022-12-12 05:01:33]\u001b[0m \u001b[1mINFO Setup [OptimizeRunnerContainer]\u001b[0m\n",
      "\u001b[32m[ConfigService 2022-12-12 05:01:33]\u001b[0m \u001b[1mINFO Setup [ConfigService]\u001b[0m\n",
      "\u001b[32m[ConfigService 2022-12-12 05:01:33]\u001b[0m \u001b[1mINFO {'root_dir': PosixPath('/Users/tsukuba-yuuki-uehara/Desktop/projects/graduation_research')}\u001b[0m\n",
      "\u001b[32m[ConfigService 2022-12-12 05:01:33]\u001b[0m \u001b[1mINFO {'input_dir': PosixPath('/Users/tsukuba-yuuki-uehara/Desktop/projects/graduation_research/input')}\u001b[0m\n",
      "\u001b[32m[ConfigService 2022-12-12 05:01:33]\u001b[0m \u001b[1mINFO {'output_root': PosixPath('/Users/tsukuba-yuuki-uehara/Desktop/projects/graduation_research/output/optimize113')}\u001b[0m\n",
      "\u001b[32m[ConfigService 2022-12-12 05:01:33]\u001b[0m \u001b[1mINFO {'output_dir': PosixPath('/Users/tsukuba-yuuki-uehara/Desktop/projects/graduation_research/output/optimize113/outputs')}\u001b[0m\n",
      "\u001b[32m[ConfigService 2022-12-12 05:01:33]\u001b[0m \u001b[1mINFO {'output_prediction_dir': PosixPath('/Users/tsukuba-yuuki-uehara/Desktop/projects/graduation_research/output/optimize113/predictions')}\u001b[0m\n",
      "\u001b[32m[ConfigService 2022-12-12 05:01:33]\u001b[0m \u001b[1mINFO {'output_model_dir': PosixPath('/Users/tsukuba-yuuki-uehara/Desktop/projects/graduation_research/output/optimize113/models')}\u001b[0m\n",
      "\u001b[32m[ConfigService 2022-12-12 05:01:33]\u001b[0m \u001b[1mINFO {'output_figure_dir': PosixPath('/Users/tsukuba-yuuki-uehara/Desktop/projects/graduation_research/output/optimize113/figures')}\u001b[0m\n",
      "\u001b[32m[ConfigService 2022-12-12 05:01:33]\u001b[0m \u001b[1mINFO {'output_optimize_dir': PosixPath('/Users/tsukuba-yuuki-uehara/Desktop/projects/graduation_research/output/optimize113/optimize')}\u001b[0m\n",
      "\u001b[32m[ConfigService 2022-12-12 05:01:33]\u001b[0m \u001b[1mINFO load yaml file: /Users/tsukuba-yuuki-uehara/Desktop/projects/graduation_research/yaml/optimize113.yaml\u001b[0m\n",
      "=============== /Users/tsukuba-yuuki-uehara/Desktop/projects/graduation_research/yaml/optimize113.yaml =================\n",
      "coupon_config:\n",
      "  variant_no_to_coupon_type:\n",
      "    0: control\n",
      "    1: 5% back\n",
      "    2: 5% off\n",
      "    3: 300yen off\n",
      "    4: 10% off\n",
      "    5: 10% back\n",
      "    6: 15% off\n",
      "name: s-learner, robust, alpha=0, cluster=20, gamma=0\n",
      "postprocess_config:\n",
      "  n_sample: 9999999\n",
      "  n_seed: 1\n",
      "  name: robust\n",
      "  params:\n",
      "    alpha: 0\n",
      "    clustering: gmm\n",
      "    gamma: 0\n",
      "    n_cluster: 20\n",
      "  variant_no_to_cost:\n",
      "    0: 0\n",
      "    1: 5\n",
      "    2: 5\n",
      "    3: 13\n",
      "    4: 10\n",
      "    5: 10\n",
      "    6: 15\n",
      "problem_type: regression\n",
      "seed: 77\n",
      "target_name: gmv_28day\n",
      "train_name: train001\n",
      "treatment_name: treatment\n",
      "\n",
      "==============================================\n",
      "\u001b[32m[ConfigService 2022-12-12 05:01:33]\u001b[0m \u001b[1mINFO {'root_dir': PosixPath('/Users/tsukuba-yuuki-uehara/Desktop/projects/graduation_research')}\u001b[0m\n",
      "\u001b[32m[ConfigService 2022-12-12 05:01:33]\u001b[0m \u001b[1mINFO {'input_dir': PosixPath('/Users/tsukuba-yuuki-uehara/Desktop/projects/graduation_research/input')}\u001b[0m\n",
      "\u001b[32m[ConfigService 2022-12-12 05:01:33]\u001b[0m \u001b[1mINFO {'output_root': PosixPath('/Users/tsukuba-yuuki-uehara/Desktop/projects/graduation_research/output/train001')}\u001b[0m\n",
      "\u001b[32m[ConfigService 2022-12-12 05:01:33]\u001b[0m \u001b[1mINFO {'output_dir': PosixPath('/Users/tsukuba-yuuki-uehara/Desktop/projects/graduation_research/output/train001/outputs')}\u001b[0m\n",
      "\u001b[32m[ConfigService 2022-12-12 05:01:33]\u001b[0m \u001b[1mINFO {'output_prediction_dir': PosixPath('/Users/tsukuba-yuuki-uehara/Desktop/projects/graduation_research/output/train001/predictions')}\u001b[0m\n",
      "\u001b[32m[ConfigService 2022-12-12 05:01:33]\u001b[0m \u001b[1mINFO {'output_model_dir': PosixPath('/Users/tsukuba-yuuki-uehara/Desktop/projects/graduation_research/output/train001/models')}\u001b[0m\n",
      "\u001b[32m[ConfigService 2022-12-12 05:01:33]\u001b[0m \u001b[1mINFO {'output_figure_dir': PosixPath('/Users/tsukuba-yuuki-uehara/Desktop/projects/graduation_research/output/train001/figures')}\u001b[0m\n",
      "\u001b[32m[ConfigService 2022-12-12 05:01:33]\u001b[0m \u001b[1mINFO {'output_optimize_dir': PosixPath('/Users/tsukuba-yuuki-uehara/Desktop/projects/graduation_research/output/train001/optimize')}\u001b[0m\n",
      "\u001b[32m[ConfigService 2022-12-12 05:01:33]\u001b[0m \u001b[1mINFO load yaml file: /Users/tsukuba-yuuki-uehara/Desktop/projects/graduation_research/yaml/train001.yaml\u001b[0m\n",
      "\u001b[32m[DataService 2022-12-12 05:01:33]\u001b[0m \u001b[1mINFO Setup [DataService]\u001b[0m\n",
      "\u001b[32m[DataService 2022-12-12 05:01:33]\u001b[0m \u001b[1mINFO [Read /Users/tsukuba-yuuki-uehara/Desktop/projects/graduation_research/input/retention_campaign_users_and_features_202202.csv] start [0.2GB(39.7%)]\u001b[0m\n",
      "\u001b[32m[DataService 2022-12-12 05:01:36]\u001b[0m \u001b[1mINFO [Read /Users/tsukuba-yuuki-uehara/Desktop/projects/graduation_research/input/retention_campaign_users_and_features_202202.csv] done [2.6GB(45.9%)(+2.325GB)] 2.7828 s\u001b[0m\n",
      "\u001b[32m[DataService 2022-12-12 05:01:36]\u001b[0m \u001b[1mINFO df.shape: (660000, 102)\u001b[0m\n",
      "\u001b[32m[PreprocessService 2022-12-12 05:01:36]\u001b[0m \u001b[1mINFO Setup [PreprocessService]\u001b[0m\n",
      "\u001b[32m[PostprocessService 2022-12-12 05:01:36]\u001b[0m \u001b[1mINFO Setup [PostprocessService]\u001b[0m\n",
      "\u001b[32m[RobustPostprocess 2022-12-12 05:01:36]\u001b[0m \u001b[1mINFO Setup [RobustPostprocess]\u001b[0m\n"
     ]
    },
    {
     "name": "stderr",
     "output_type": "stream",
     "text": [
      "seed:   0%|          | 0/1 [00:00<?, ?it/s]\n",
      "budget_constraint:   0%|          | 0/10 [00:00<?, ?it/s]\u001b[A"
     ]
    },
    {
     "name": "stdout",
     "output_type": "stream",
     "text": [
      "\u001b[32m[RobustPostprocess 2022-12-12 05:01:52]\u001b[0m \u001b[1mINFO Optimal value: -6100589.36820248\u001b[0m\n",
      "\u001b[32m[RobustPostprocess 2022-12-12 05:01:52]\u001b[0m \u001b[1mINFO  Sufficiency ratio: 1.000000\u001b[0m\n"
     ]
    },
    {
     "name": "stderr",
     "output_type": "stream",
     "text": [
      "\n",
      "budget_constraint:  10%|█         | 1/10 [00:15<02:19, 15.49s/it]\u001b[A/Users/tsukuba-yuuki-uehara/Desktop/projects/graduation_research/.venv/lib/python3.8/site-packages/cvxpy/problems/problem.py:1337: UserWarning: Solution may be inaccurate. Try another solver, adjusting the solver settings, or solve with verbose=True for more information.\n",
      "  warnings.warn(\n",
      "\n",
      "budget_constraint:  20%|██        | 2/10 [00:32<02:10, 16.30s/it]\u001b[A"
     ]
    },
    {
     "name": "stdout",
     "output_type": "stream",
     "text": [
      "\u001b[32m[RobustPostprocess 2022-12-12 05:02:08]\u001b[0m \u001b[1mINFO Optimal value: -8162045.541676582\u001b[0m\n",
      "\u001b[32m[RobustPostprocess 2022-12-12 05:02:08]\u001b[0m \u001b[1mINFO  Sufficiency ratio: 1.000194\u001b[0m\n",
      "\u001b[32m[RobustPostprocess 2022-12-12 05:02:25]\u001b[0m \u001b[1mINFO Optimal value: -10103955.31932942\u001b[0m\n",
      "\u001b[32m[RobustPostprocess 2022-12-12 05:02:25]\u001b[0m \u001b[1mINFO  Sufficiency ratio: 1.000009\u001b[0m\n"
     ]
    },
    {
     "name": "stderr",
     "output_type": "stream",
     "text": [
      "\n",
      "budget_constraint:  30%|███       | 3/10 [00:49<01:55, 16.56s/it]\u001b[A"
     ]
    },
    {
     "name": "stdout",
     "output_type": "stream",
     "text": [
      "\u001b[32m[RobustPostprocess 2022-12-12 05:02:42]\u001b[0m \u001b[1mINFO Optimal value: -12107922.13310238\u001b[0m\n",
      "\u001b[32m[RobustPostprocess 2022-12-12 05:02:42]\u001b[0m \u001b[1mINFO  Sufficiency ratio: 1.000001\u001b[0m\n"
     ]
    },
    {
     "name": "stderr",
     "output_type": "stream",
     "text": [
      "\n",
      "budget_constraint:  40%|████      | 4/10 [01:06<01:40, 16.74s/it]\u001b[A/Users/tsukuba-yuuki-uehara/Desktop/projects/graduation_research/.venv/lib/python3.8/site-packages/cvxpy/problems/problem.py:1337: UserWarning: Solution may be inaccurate. Try another solver, adjusting the solver settings, or solve with verbose=True for more information.\n",
      "  warnings.warn(\n",
      "\n",
      "budget_constraint:  50%|█████     | 5/10 [01:23<01:24, 16.92s/it]\u001b[A"
     ]
    },
    {
     "name": "stdout",
     "output_type": "stream",
     "text": [
      "\u001b[32m[RobustPostprocess 2022-12-12 05:03:00]\u001b[0m \u001b[1mINFO Optimal value: -14155096.85950109\u001b[0m\n",
      "\u001b[32m[RobustPostprocess 2022-12-12 05:03:00]\u001b[0m \u001b[1mINFO  Sufficiency ratio: 1.000081\u001b[0m\n",
      "\u001b[32m[RobustPostprocess 2022-12-12 05:03:16]\u001b[0m \u001b[1mINFO Optimal value: -16130278.436343515\u001b[0m\n",
      "\u001b[32m[RobustPostprocess 2022-12-12 05:03:16]\u001b[0m \u001b[1mINFO  Sufficiency ratio: 1.000031\u001b[0m\n"
     ]
    },
    {
     "name": "stderr",
     "output_type": "stream",
     "text": [
      "\n",
      "budget_constraint:  60%|██████    | 6/10 [01:39<01:06, 16.63s/it]\u001b[A"
     ]
    },
    {
     "name": "stdout",
     "output_type": "stream",
     "text": [
      "\u001b[32m[RobustPostprocess 2022-12-12 05:03:32]\u001b[0m \u001b[1mINFO Optimal value: -16273432.228902679\u001b[0m\n",
      "\u001b[32m[RobustPostprocess 2022-12-12 05:03:32]\u001b[0m \u001b[1mINFO  Sufficiency ratio: 0.999985\u001b[0m\n"
     ]
    },
    {
     "name": "stderr",
     "output_type": "stream",
     "text": [
      "\n",
      "budget_constraint:  70%|███████   | 7/10 [01:56<00:49, 16.62s/it]\u001b[A/Users/tsukuba-yuuki-uehara/Desktop/projects/graduation_research/.venv/lib/python3.8/site-packages/cvxpy/problems/problem.py:1337: UserWarning: Solution may be inaccurate. Try another solver, adjusting the solver settings, or solve with verbose=True for more information.\n",
      "  warnings.warn(\n",
      "\n",
      "budget_constraint:  80%|████████  | 8/10 [02:13<00:33, 16.99s/it]\u001b[A"
     ]
    },
    {
     "name": "stdout",
     "output_type": "stream",
     "text": [
      "\u001b[32m[RobustPostprocess 2022-12-12 05:03:50]\u001b[0m \u001b[1mINFO Optimal value: -16267551.031251878\u001b[0m\n",
      "\u001b[32m[RobustPostprocess 2022-12-12 05:03:50]\u001b[0m \u001b[1mINFO  Sufficiency ratio: 0.916547\u001b[0m\n",
      "\u001b[32m[RobustPostprocess 2022-12-12 05:04:06]\u001b[0m \u001b[1mINFO Optimal value: -16273862.772924375\u001b[0m\n",
      "\u001b[32m[RobustPostprocess 2022-12-12 05:04:06]\u001b[0m \u001b[1mINFO  Sufficiency ratio: 0.828636\u001b[0m\n"
     ]
    },
    {
     "name": "stderr",
     "output_type": "stream",
     "text": [
      "\n",
      "budget_constraint:  90%|█████████ | 9/10 [02:30<00:16, 16.75s/it]\u001b[A"
     ]
    },
    {
     "name": "stdout",
     "output_type": "stream",
     "text": [
      "\u001b[32m[RobustPostprocess 2022-12-12 05:04:22]\u001b[0m \u001b[1mINFO Optimal value: -16272063.946563683\u001b[0m\n",
      "\u001b[32m[RobustPostprocess 2022-12-12 05:04:22]\u001b[0m \u001b[1mINFO  Sufficiency ratio: 0.756431\u001b[0m\n"
     ]
    },
    {
     "name": "stderr",
     "output_type": "stream",
     "text": [
      "\n",
      "budget_constraint: 100%|██████████| 10/10 [02:45<00:00, 16.47s/it]\u001b[A\n",
      "seed: 100%|██████████| 1/1 [02:46<00:00, 166.05s/it]              \u001b[A\n",
      "\n",
      "\u001b[A\n",
      "alpha: 100%|██████████| 1/1 [07:42<00:00, 462.28s/it]\n"
     ]
    }
   ],
   "source": [
    "exp_no = START_EXP_NUM\n",
    "for alpha in tqdm(alpha_list, desc='alpha'):\n",
    "    for cluster in tqdm(cluster_list, desc='cluster', leave=False):\n",
    "        for gamma in tqdm(gamma_list, desc='gamma', leave=False):\n",
    "            exp_name = f'optimize{exp_no:03}'\n",
    "            exp_yaml = copy.copy(base_yaml)\n",
    "            gamma = int((5 * cluster) * gamma)\n",
    "            name = f's-learner, robust, alpha={alpha}, cluster={cluster}, gamma={gamma}'\n",
    "            exp_yaml['name'] = name\n",
    "            exp_yaml['postprocess_config']['params']['n_cluster'] = cluster\n",
    "            exp_yaml['postprocess_config']['params']['gamma'] = gamma\n",
    "            exp_yaml['postprocess_config']['params']['alpha'] = alpha\n",
    "\n",
    "            print(exp_yaml['name'])\n",
    "            with open(YAML_DIR / f'{exp_name}.yaml', 'w') as f:\n",
    "                yaml.dump(exp_yaml, f)\n",
    "            \n",
    "            command = f'python src/bin/optimize.py --exp {exp_name}'\n",
    "            os.system(command)\n",
    "            exp_no += 1"
   ]
  }
 ],
 "metadata": {
  "kernelspec": {
   "display_name": "Python 3.8.14 ('.venv': poetry)",
   "language": "python",
   "name": "python3"
  },
  "language_info": {
   "codemirror_mode": {
    "name": "ipython",
    "version": 3
   },
   "file_extension": ".py",
   "mimetype": "text/x-python",
   "name": "python",
   "nbconvert_exporter": "python",
   "pygments_lexer": "ipython3",
   "version": "3.8.14"
  },
  "orig_nbformat": 4,
  "vscode": {
   "interpreter": {
    "hash": "0d65df437ae9c362327cb0ea5496bac94e11b32aa7503a1d125ee3330ce643c7"
   }
  }
 },
 "nbformat": 4,
 "nbformat_minor": 2
}
