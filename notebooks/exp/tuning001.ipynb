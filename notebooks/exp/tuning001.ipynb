{
 "cells": [
  {
   "cell_type": "code",
   "execution_count": 1,
   "metadata": {},
   "outputs": [
    {
     "name": "stdout",
     "output_type": "stream",
     "text": [
      "/Users/tsukuba-yuuki-uehara/Desktop/projects/graduation_research\n",
      "README.md      \u001b[34minput\u001b[m\u001b[m          \u001b[34mnotebooks\u001b[m\u001b[m      poetry.lock    \u001b[34msrc\u001b[m\u001b[m\n",
      "\u001b[34mbin\u001b[m\u001b[m            \u001b[34mlocal\u001b[m\u001b[m          \u001b[34moutput\u001b[m\u001b[m         pyproject.toml \u001b[34myaml\u001b[m\u001b[m\n"
     ]
    }
   ],
   "source": [
    "%cd /Users/tsukuba-yuuki-uehara/Desktop/projects/graduation_research\n",
    "!ls"
   ]
  },
  {
   "cell_type": "code",
   "execution_count": 2,
   "metadata": {},
   "outputs": [],
   "source": [
    "import yaml\n",
    "from pathlib import Path\n",
    "import copy\n",
    "import os\n",
    "from tqdm import tqdm"
   ]
  },
  {
   "cell_type": "code",
   "execution_count": 3,
   "metadata": {},
   "outputs": [],
   "source": [
    "YAML_DIR = Path('./yaml')\n",
    "START_EXP_NUM = 9"
   ]
  },
  {
   "cell_type": "code",
   "execution_count": 4,
   "metadata": {},
   "outputs": [],
   "source": [
    "with open(YAML_DIR / 'optimize001.yaml', 'rb') as f:\n",
    "    base_yaml = yaml.safe_load(f)"
   ]
  },
  {
   "cell_type": "code",
   "execution_count": 5,
   "metadata": {},
   "outputs": [],
   "source": [
    "alpha_list = [0.2, 0.4, 0.6, 0.8, 1]\n",
    "cluster_list = [1, 5, 10, 15, 20]\n",
    "gamma_list = [0.2, 0.4, 0.6, 0.8]"
   ]
  },
  {
   "cell_type": "code",
   "execution_count": 7,
   "metadata": {},
   "outputs": [
    {
     "name": "stderr",
     "output_type": "stream",
     "text": [
      "alpha:   0%|          | 0/5 [00:00<?, ?it/s]\n",
      "\u001b[A\n",
      "\u001b[A"
     ]
    },
    {
     "name": "stdout",
     "output_type": "stream",
     "text": [
      "s-learner, robust, alpha=0.2, cluster=1, gamma=1\n",
      "s-learner, robust, alpha=0.2, cluster=1, gamma=2\n",
      "s-learner, robust, alpha=0.2, cluster=1, gamma=3\n",
      "s-learner, robust, alpha=0.2, cluster=1, gamma=4\n"
     ]
    },
    {
     "name": "stderr",
     "output_type": "stream",
     "text": [
      "\n",
      "\u001b[A\n",
      "\u001b[A"
     ]
    },
    {
     "name": "stdout",
     "output_type": "stream",
     "text": [
      "s-learner, robust, alpha=0.2, cluster=5, gamma=5\n",
      "s-learner, robust, alpha=0.2, cluster=5, gamma=10\n",
      "s-learner, robust, alpha=0.2, cluster=5, gamma=15\n",
      "s-learner, robust, alpha=0.2, cluster=5, gamma=20\n"
     ]
    },
    {
     "name": "stderr",
     "output_type": "stream",
     "text": [
      "\n",
      "\u001b[A\n",
      "\u001b[A"
     ]
    },
    {
     "name": "stdout",
     "output_type": "stream",
     "text": [
      "s-learner, robust, alpha=0.2, cluster=10, gamma=10\n",
      "s-learner, robust, alpha=0.2, cluster=10, gamma=20\n",
      "s-learner, robust, alpha=0.2, cluster=10, gamma=30\n",
      "s-learner, robust, alpha=0.2, cluster=10, gamma=40\n"
     ]
    },
    {
     "name": "stderr",
     "output_type": "stream",
     "text": [
      "\n",
      "\u001b[A\n",
      "\u001b[A"
     ]
    },
    {
     "name": "stdout",
     "output_type": "stream",
     "text": [
      "s-learner, robust, alpha=0.2, cluster=15, gamma=15\n",
      "s-learner, robust, alpha=0.2, cluster=15, gamma=30\n",
      "s-learner, robust, alpha=0.2, cluster=15, gamma=45\n",
      "s-learner, robust, alpha=0.2, cluster=15, gamma=60\n"
     ]
    },
    {
     "name": "stderr",
     "output_type": "stream",
     "text": [
      "\n",
      "\u001b[A\n",
      "\u001b[A"
     ]
    },
    {
     "name": "stdout",
     "output_type": "stream",
     "text": [
      "s-learner, robust, alpha=0.2, cluster=20, gamma=20\n",
      "s-learner, robust, alpha=0.2, cluster=20, gamma=40\n",
      "s-learner, robust, alpha=0.2, cluster=20, gamma=60\n",
      "s-learner, robust, alpha=0.2, cluster=20, gamma=80\n"
     ]
    },
    {
     "name": "stderr",
     "output_type": "stream",
     "text": [
      "\n",
      "\u001b[A\n",
      "\u001b[A"
     ]
    },
    {
     "name": "stdout",
     "output_type": "stream",
     "text": [
      "s-learner, robust, alpha=0.4, cluster=1, gamma=1\n",
      "s-learner, robust, alpha=0.4, cluster=1, gamma=2\n",
      "s-learner, robust, alpha=0.4, cluster=1, gamma=3\n",
      "s-learner, robust, alpha=0.4, cluster=1, gamma=4\n"
     ]
    },
    {
     "name": "stderr",
     "output_type": "stream",
     "text": [
      "\n",
      "\u001b[A\n",
      "\u001b[A"
     ]
    },
    {
     "name": "stdout",
     "output_type": "stream",
     "text": [
      "s-learner, robust, alpha=0.4, cluster=5, gamma=5\n",
      "s-learner, robust, alpha=0.4, cluster=5, gamma=10\n",
      "s-learner, robust, alpha=0.4, cluster=5, gamma=15\n",
      "s-learner, robust, alpha=0.4, cluster=5, gamma=20\n"
     ]
    },
    {
     "name": "stderr",
     "output_type": "stream",
     "text": [
      "\n",
      "\u001b[A\n",
      "\u001b[A"
     ]
    },
    {
     "name": "stdout",
     "output_type": "stream",
     "text": [
      "s-learner, robust, alpha=0.4, cluster=10, gamma=10\n",
      "s-learner, robust, alpha=0.4, cluster=10, gamma=20\n",
      "s-learner, robust, alpha=0.4, cluster=10, gamma=30\n",
      "s-learner, robust, alpha=0.4, cluster=10, gamma=40\n"
     ]
    },
    {
     "name": "stderr",
     "output_type": "stream",
     "text": [
      "\n",
      "\u001b[A\n",
      "\u001b[A"
     ]
    },
    {
     "name": "stdout",
     "output_type": "stream",
     "text": [
      "s-learner, robust, alpha=0.4, cluster=15, gamma=15\n",
      "s-learner, robust, alpha=0.4, cluster=15, gamma=30\n",
      "s-learner, robust, alpha=0.4, cluster=15, gamma=45\n",
      "s-learner, robust, alpha=0.4, cluster=15, gamma=60\n"
     ]
    },
    {
     "name": "stderr",
     "output_type": "stream",
     "text": [
      "\n",
      "\u001b[A\n",
      "\u001b[A"
     ]
    },
    {
     "name": "stdout",
     "output_type": "stream",
     "text": [
      "s-learner, robust, alpha=0.4, cluster=20, gamma=20\n",
      "s-learner, robust, alpha=0.4, cluster=20, gamma=40\n",
      "s-learner, robust, alpha=0.4, cluster=20, gamma=60\n",
      "s-learner, robust, alpha=0.4, cluster=20, gamma=80\n"
     ]
    },
    {
     "name": "stderr",
     "output_type": "stream",
     "text": [
      "\n",
      "\u001b[A\n",
      "\u001b[A"
     ]
    },
    {
     "name": "stdout",
     "output_type": "stream",
     "text": [
      "s-learner, robust, alpha=0.6, cluster=1, gamma=1\n",
      "s-learner, robust, alpha=0.6, cluster=1, gamma=2\n",
      "s-learner, robust, alpha=0.6, cluster=1, gamma=3\n",
      "s-learner, robust, alpha=0.6, cluster=1, gamma=4\n"
     ]
    },
    {
     "name": "stderr",
     "output_type": "stream",
     "text": [
      "\n",
      "\u001b[A\n",
      "\u001b[A"
     ]
    },
    {
     "name": "stdout",
     "output_type": "stream",
     "text": [
      "s-learner, robust, alpha=0.6, cluster=5, gamma=5\n",
      "s-learner, robust, alpha=0.6, cluster=5, gamma=10\n",
      "s-learner, robust, alpha=0.6, cluster=5, gamma=15\n",
      "s-learner, robust, alpha=0.6, cluster=5, gamma=20\n"
     ]
    },
    {
     "name": "stderr",
     "output_type": "stream",
     "text": [
      "\n",
      "\u001b[A\n",
      "\u001b[A"
     ]
    },
    {
     "name": "stdout",
     "output_type": "stream",
     "text": [
      "s-learner, robust, alpha=0.6, cluster=10, gamma=10\n",
      "s-learner, robust, alpha=0.6, cluster=10, gamma=20\n",
      "s-learner, robust, alpha=0.6, cluster=10, gamma=30\n",
      "s-learner, robust, alpha=0.6, cluster=10, gamma=40\n"
     ]
    },
    {
     "name": "stderr",
     "output_type": "stream",
     "text": [
      "\n",
      "\u001b[A\n",
      "\u001b[A"
     ]
    },
    {
     "name": "stdout",
     "output_type": "stream",
     "text": [
      "s-learner, robust, alpha=0.6, cluster=15, gamma=15\n",
      "s-learner, robust, alpha=0.6, cluster=15, gamma=30\n",
      "s-learner, robust, alpha=0.6, cluster=15, gamma=45\n",
      "s-learner, robust, alpha=0.6, cluster=15, gamma=60\n"
     ]
    },
    {
     "name": "stderr",
     "output_type": "stream",
     "text": [
      "\n",
      "\u001b[A\n",
      "\u001b[A"
     ]
    },
    {
     "name": "stdout",
     "output_type": "stream",
     "text": [
      "s-learner, robust, alpha=0.6, cluster=20, gamma=20\n",
      "s-learner, robust, alpha=0.6, cluster=20, gamma=40\n",
      "s-learner, robust, alpha=0.6, cluster=20, gamma=60\n",
      "s-learner, robust, alpha=0.6, cluster=20, gamma=80\n"
     ]
    },
    {
     "name": "stderr",
     "output_type": "stream",
     "text": [
      "\n",
      "\u001b[A\n",
      "\u001b[A"
     ]
    },
    {
     "name": "stdout",
     "output_type": "stream",
     "text": [
      "s-learner, robust, alpha=0.8, cluster=1, gamma=1\n",
      "s-learner, robust, alpha=0.8, cluster=1, gamma=2\n",
      "s-learner, robust, alpha=0.8, cluster=1, gamma=3\n",
      "s-learner, robust, alpha=0.8, cluster=1, gamma=4\n"
     ]
    },
    {
     "name": "stderr",
     "output_type": "stream",
     "text": [
      "\n",
      "\u001b[A\n",
      "\u001b[A"
     ]
    },
    {
     "name": "stdout",
     "output_type": "stream",
     "text": [
      "s-learner, robust, alpha=0.8, cluster=5, gamma=5\n",
      "s-learner, robust, alpha=0.8, cluster=5, gamma=10\n",
      "s-learner, robust, alpha=0.8, cluster=5, gamma=15\n",
      "s-learner, robust, alpha=0.8, cluster=5, gamma=20\n"
     ]
    },
    {
     "name": "stderr",
     "output_type": "stream",
     "text": [
      "\n",
      "\u001b[A\n",
      "\u001b[A"
     ]
    },
    {
     "name": "stdout",
     "output_type": "stream",
     "text": [
      "s-learner, robust, alpha=0.8, cluster=10, gamma=10\n",
      "s-learner, robust, alpha=0.8, cluster=10, gamma=20\n",
      "s-learner, robust, alpha=0.8, cluster=10, gamma=30\n",
      "s-learner, robust, alpha=0.8, cluster=10, gamma=40\n"
     ]
    },
    {
     "name": "stderr",
     "output_type": "stream",
     "text": [
      "\n",
      "\u001b[A\n",
      "\u001b[A"
     ]
    },
    {
     "name": "stdout",
     "output_type": "stream",
     "text": [
      "s-learner, robust, alpha=0.8, cluster=15, gamma=15\n",
      "s-learner, robust, alpha=0.8, cluster=15, gamma=30\n",
      "s-learner, robust, alpha=0.8, cluster=15, gamma=45\n",
      "s-learner, robust, alpha=0.8, cluster=15, gamma=60\n"
     ]
    },
    {
     "name": "stderr",
     "output_type": "stream",
     "text": [
      "\n",
      "\u001b[A\n",
      "\u001b[A"
     ]
    },
    {
     "name": "stdout",
     "output_type": "stream",
     "text": [
      "s-learner, robust, alpha=0.8, cluster=20, gamma=20\n",
      "s-learner, robust, alpha=0.8, cluster=20, gamma=40\n",
      "s-learner, robust, alpha=0.8, cluster=20, gamma=60\n",
      "s-learner, robust, alpha=0.8, cluster=20, gamma=80\n"
     ]
    },
    {
     "name": "stderr",
     "output_type": "stream",
     "text": [
      "\n",
      "\u001b[A\n",
      "\u001b[A"
     ]
    },
    {
     "name": "stdout",
     "output_type": "stream",
     "text": [
      "s-learner, robust, alpha=1, cluster=1, gamma=1\n",
      "s-learner, robust, alpha=1, cluster=1, gamma=2\n",
      "s-learner, robust, alpha=1, cluster=1, gamma=3\n",
      "s-learner, robust, alpha=1, cluster=1, gamma=4\n"
     ]
    },
    {
     "name": "stderr",
     "output_type": "stream",
     "text": [
      "\n",
      "\u001b[A\n",
      "\u001b[A"
     ]
    },
    {
     "name": "stdout",
     "output_type": "stream",
     "text": [
      "s-learner, robust, alpha=1, cluster=5, gamma=5\n",
      "s-learner, robust, alpha=1, cluster=5, gamma=10\n",
      "s-learner, robust, alpha=1, cluster=5, gamma=15\n",
      "s-learner, robust, alpha=1, cluster=5, gamma=20\n"
     ]
    },
    {
     "name": "stderr",
     "output_type": "stream",
     "text": [
      "\n",
      "\u001b[A\n",
      "\u001b[A"
     ]
    },
    {
     "name": "stdout",
     "output_type": "stream",
     "text": [
      "s-learner, robust, alpha=1, cluster=10, gamma=10\n",
      "s-learner, robust, alpha=1, cluster=10, gamma=20\n",
      "s-learner, robust, alpha=1, cluster=10, gamma=30\n",
      "s-learner, robust, alpha=1, cluster=10, gamma=40\n"
     ]
    },
    {
     "name": "stderr",
     "output_type": "stream",
     "text": [
      "\n",
      "\u001b[A\n",
      "\u001b[A"
     ]
    },
    {
     "name": "stdout",
     "output_type": "stream",
     "text": [
      "s-learner, robust, alpha=1, cluster=15, gamma=15\n",
      "s-learner, robust, alpha=1, cluster=15, gamma=30\n",
      "s-learner, robust, alpha=1, cluster=15, gamma=45\n",
      "s-learner, robust, alpha=1, cluster=15, gamma=60\n"
     ]
    },
    {
     "name": "stderr",
     "output_type": "stream",
     "text": [
      "\n",
      "\u001b[A\n",
      "alpha: 100%|██████████| 5/5 [00:00<00:00, 83.21it/s]"
     ]
    },
    {
     "name": "stdout",
     "output_type": "stream",
     "text": [
      "s-learner, robust, alpha=1, cluster=20, gamma=20\n",
      "s-learner, robust, alpha=1, cluster=20, gamma=40\n",
      "s-learner, robust, alpha=1, cluster=20, gamma=60\n",
      "s-learner, robust, alpha=1, cluster=20, gamma=80\n"
     ]
    },
    {
     "name": "stderr",
     "output_type": "stream",
     "text": [
      "\n"
     ]
    }
   ],
   "source": [
    "exp_no = START_EXP_NUM\n",
    "for alpha in tqdm(alpha_list, desc='alpha'):\n",
    "    for cluster in tqdm(cluster_list, desc='cluster', leave=False):\n",
    "        for gamma in tqdm(gamma_list, desc='gamma', leave=False):\n",
    "            if cluster != 3:\n",
    "                continue\n",
    "\n",
    "            exp_name = f'optimize{exp_no:03}'\n",
    "            exp_yaml = copy.copy(base_yaml)\n",
    "            gamma = int((5 * cluster) * gamma)\n",
    "            name = f's-learner, robust, alpha={alpha}, cluster={cluster}, gamma={gamma}'\n",
    "            exp_yaml['name'] = name\n",
    "            exp_yaml['postprocess_config']['params']['n_cluster'] = cluster\n",
    "            exp_yaml['postprocess_config']['params']['gamma'] = gamma\n",
    "            exp_yaml['postprocess_config']['params']['alpha'] = alpha\n",
    "\n",
    "            print(exp_yaml['name'])\n",
    "            with open(YAML_DIR / f'{exp_name}.yaml', 'w') as f:\n",
    "                yaml.dump(exp_yaml, f)\n",
    "            \n",
    "            command = f'python src/bin/optimize.py --exp {exp_name}'\n",
    "            os.system(command)\n",
    "            exp_no += 1"
   ]
  }
 ],
 "metadata": {
  "kernelspec": {
   "display_name": "Python 3.8.14 ('.venv': poetry)",
   "language": "python",
   "name": "python3"
  },
  "language_info": {
   "codemirror_mode": {
    "name": "ipython",
    "version": 3
   },
   "file_extension": ".py",
   "mimetype": "text/x-python",
   "name": "python",
   "nbconvert_exporter": "python",
   "pygments_lexer": "ipython3",
   "version": "3.8.14"
  },
  "orig_nbformat": 4,
  "vscode": {
   "interpreter": {
    "hash": "0d65df437ae9c362327cb0ea5496bac94e11b32aa7503a1d125ee3330ce643c7"
   }
  }
 },
 "nbformat": 4,
 "nbformat_minor": 2
}
